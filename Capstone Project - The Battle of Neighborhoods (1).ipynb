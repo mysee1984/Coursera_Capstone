{
 "cells": [
  {
   "cell_type": "markdown",
   "metadata": {
    "collapsed": true
   },
   "source": [
    "## Capstone Project - The Battle of Neighborhoods (Week 2)\n",
    "### How to choose the best hotel in Paris and nearby areas?\n",
    "\n",
    "## I. Business Problem Section\n",
    "### Introduction\n",
    "Being one of the world capitals of arts, culture, gastronomy and fashion, millions of travelers visit Paris each year to explore the city's cultural attractions, such as: The Eiffel Tower, Musée du Louvre, Cathédrale Notre-Dame de Paris, Avenue des Champs-Élysées, Disneyland, Palace of Versailles, Musée d'Orsay and so on. There are a lot of travel agencies that offer various deals on flights, hotel stays and rental cars. Also, there are people who prefer not to work with a travel agency and who want to plan the holiday on their own.\n",
    "\n",
    "If someone wants to travel there are many things to consider from choosing the right location, accommodation, flights, rental cars to attractions, restaurants, stores and other facilities.\n",
    "\n",
    "Therefore, the main idea is that in both cases, on their own and with a travel agency, it is necessary to have a list of recommendations and criteria of choosing the optimal one. So, a good idea would we to develop one application that incorporate a lot of machine learning techniques and leverage the Foursquare location data in order to cluster different cities neighborhoods, in our case Paris, to recommend venues and to support people who are looking for the right hotel to take the best decisions.\n",
    "\n",
    "\n",
    "### Business Problem\n",
    "In this scenario, the business problem I am trying to solve is: How could I provide support to different stakeholders (people or tourism agencies) in choosing the best accommodation? Where would I recommend that is the best place to stay?\n",
    "\n",
    "To solve this business problem, we will use Foursquare location data and we will create machine learning models to cluster Paris and nearby areas neighborhoods in order to recommend profitable hotels based on different surrounding facilities such as venues, restaurants, stores, attractions and so on.\n",
    "\n",
    "Through these models the stakeholders will have a wide range of recommendations for accommodation, they will know all the facilities to enjoy on vacation, will receive a wide range of options and, in this way, they will know exactly what hotel is the most suitable for them.\n",
    "\n",
    "### II. Data Section\n",
    "To perform this idea, it was used data from 2 different sources. Data about hotels from Paris and nearby areas was taken from: https://www.accorhotels.com. It was collected information related to postal code, name of the hotel, address and it was integrated into a database which contain 40 observations about 40 hotels from Paris and nearby areas. For a better analysis it was selected data about hotels from different areas and with different facilities.\n",
    "\n",
    "The second source used is Foursquare location data in order to explore and target recommended locations across different venues. Everything was arranged into a pandas dataframe for exploration, visualization and modeling.\n",
    "\n",
    "The final database which combine Foursquare location data and Paris + nearby areas hotels data, will be used to develop our machine learning models and to cluster Paris + nearby areas neighborhoods in order to provide the best recommendations in choosing a hotel based on a wide range of surrounding facilities.\n",
    "\n",
    "### III. Methodology section\n",
    "In the methodology section will be presented the main components of the report, namely:\n",
    "\n",
    "Data Collection: to bring all the required information in one single data frame\n",
    "Data Exploration and Understanding: to inspect the data, extract and analyze all the hidden insights\n",
    "Data Modeling: K-means Clustering: to cluster Paris and nearby hotels to see how they group togethed and based on what kind of information with the final purpose to provide useful information related to accommodation strategies"
   ]
  },
  {
   "cell_type": "code",
   "execution_count": null,
   "metadata": {},
   "outputs": [],
   "source": []
  }
 ],
 "metadata": {
  "kernelspec": {
   "display_name": "Python 3.5",
   "language": "python",
   "name": "python3"
  },
  "language_info": {
   "codemirror_mode": {
    "name": "ipython",
    "version": 3
   },
   "file_extension": ".py",
   "mimetype": "text/x-python",
   "name": "python",
   "nbconvert_exporter": "python",
   "pygments_lexer": "ipython3",
   "version": "3.5.5"
  }
 },
 "nbformat": 4,
 "nbformat_minor": 1
}
